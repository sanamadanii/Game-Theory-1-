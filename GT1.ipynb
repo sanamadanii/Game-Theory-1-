{
 "cells": [
  {
   "cell_type": "code",
   "execution_count": 270,
   "metadata": {},
   "outputs": [],
   "source": [
    "import random\n",
    "import numpy as np\n",
    "import matplotlib.pyplot as plt\n",
    "np.random.seed(123)"
   ]
  },
  {
   "cell_type": "code",
   "execution_count": 271,
   "metadata": {},
   "outputs": [],
   "source": [
    "def AlwaysCooperate():\n",
    "    return 0\n"
   ]
  },
  {
   "cell_type": "code",
   "execution_count": 272,
   "metadata": {},
   "outputs": [],
   "source": [
    "def AlwaysDefect():\n",
    "    return 1"
   ]
  },
  {
   "cell_type": "code",
   "execution_count": 273,
   "metadata": {},
   "outputs": [],
   "source": [
    "def TitForTat(opAct,roundnum):\n",
    "    if roundnum == 0:\n",
    "        return 0\n",
    "    else:\n",
    "        return opAct\n"
   ]
  },
  {
   "cell_type": "code",
   "execution_count": 274,
   "metadata": {},
   "outputs": [],
   "source": [
    "def SuspiciousTitForTat(opAct,roundnum):\n",
    "    if roundnum == 0:\n",
    "        return 1\n",
    "    else:\n",
    "        return opAct\n",
    "    "
   ]
  },
  {
   "cell_type": "code",
   "execution_count": 275,
   "metadata": {},
   "outputs": [],
   "source": [
    "def ReverseTitforTat(opAct,roundnum):\n",
    "    if roundnum == 0:\n",
    "        return 1\n",
    "    else:\n",
    "        return not opAct"
   ]
  },
  {
   "cell_type": "code",
   "execution_count": 276,
   "metadata": {},
   "outputs": [],
   "source": [
    "def Random():\n",
    "    prob=np.random.rand()\n",
    "    if prob<0.5:\n",
    "        return 1\n",
    "    else:\n",
    "        return 0\n",
    "    "
   ]
  },
  {
   "cell_type": "code",
   "execution_count": 277,
   "metadata": {},
   "outputs": [],
   "source": [
    "def NaiveProber(opAct,roundnum):\n",
    "    if roundnum == 0:\n",
    "        return 0\n",
    "    else:\n",
    "        naiveProb=np.random.rand()\n",
    "        if naiveProb<0.09:\n",
    "            return 1\n",
    "        else:\n",
    "            return opAct\n",
    "    "
   ]
  },
  {
   "cell_type": "code",
   "execution_count": 278,
   "metadata": {},
   "outputs": [],
   "source": [
    "def CalculatePayoff(strategy1,strategy2):\n",
    "    payoffs=[[3,3],[0,5],[5,0],[1,1]]\n",
    "    if strategy1==0 and strategy2==1: # C,D\n",
    "        payoff=payoffs[1]\n",
    "    elif strategy1==1 and strategy2==0: # D,C\n",
    "        payoff=payoffs[2]\n",
    "    elif strategy1==1 and strategy2==1: # D,D\n",
    "         payoff=payoffs[3]\n",
    "    elif strategy1==0 and strategy2==0: # C,C\n",
    "        payoff=payoffs[0]\n",
    "    return payoff"
   ]
  },
  {
   "cell_type": "code",
   "execution_count": 279,
   "metadata": {},
   "outputs": [],
   "source": [
    "def GainPerRound(payoffArray):\n",
    "    strategy1Gain,strategy2Gain=0,0\n",
    "    for j in range (len(payoffArray)):\n",
    "        strategy1Gain=strategy1Gain+payoffArray[j][0]\n",
    "        strategy2Gain=strategy2Gain+payoffArray[j][1]\n",
    "    S1gain=strategy1Gain/len(payoffArray)  \n",
    "    S2gain=strategy2Gain/len(payoffArray)\n",
    "    return S1gain,S2gain     "
   ]
  },
  {
   "cell_type": "code",
   "execution_count": 280,
   "metadata": {},
   "outputs": [],
   "source": [
    "def IPDGame(S1,S2, rounds ):\n",
    "  \n",
    "    roundResult=[]\n",
    "    prevS=np.random.choice([0,1])\n",
    "    prevS2=np.random.choice([0,1])\n",
    "   \n",
    "    if S1 == \"Always Cooperate\" and S2 == \"Tit For Tat\":\n",
    "        for i in range(rounds):\n",
    "            strategy1 = AlwaysCooperate()\n",
    "            strategy2 = TitForTat(prevS,i)\n",
    "            pervS = strategy1\n",
    "            roundResult.append(CalculatePayoff(strategy1,strategy2))\n",
    "        S1gain,S2gain=GainPerRound(roundResult)\n",
    "    \n",
    "    elif S1 == \"Always Defect\" and S2 == \"Tit For Tat\":\n",
    "        for i in range(rounds):\n",
    "            strategy1 = AlwaysDefect()\n",
    "            strategy2 = TitForTat(prevS,i)\n",
    "            pervS = strategy2\n",
    "            roundResult.append(CalculatePayoff(strategy1,strategy2))\n",
    "        S1gain,S2gain=GainPerRound(roundResult)\n",
    "        \n",
    "    \n",
    "    elif S1 == \"Always Defect\" and S2 == \"Suspicious Tit For Tat\":\n",
    "        for i in range(rounds):\n",
    "            strategy1 = AlwaysDefect()\n",
    "            strategy2 = SuspiciousTitForTat(prevS,i)\n",
    "            pervS = strategy2\n",
    "            roundResult.append(CalculatePayoff(strategy1,strategy2))\n",
    "        S1gain,S2gain=GainPerRound(roundResult)\n",
    "        \n",
    "         \n",
    "    elif S1 == \"Reverse Tit for Tat\" and S2 == \"Suspicious Tit For Tat\":\n",
    "        for i in range(rounds):\n",
    "            strategy1 = ReverseTitforTat(prevS2,i)\n",
    "            strategy2 = SuspiciousTitForTat(prevS,i)\n",
    "            pervS = strategy2\n",
    "            pervS2= strategy1\n",
    "            roundResult.append(CalculatePayoff(strategy1,strategy2))\n",
    "            print(roundResult)\n",
    "        S1gain,S2gain=GainPerRound(roundResult)\n",
    "   \n",
    "      \n",
    "    elif S1 == \"Always Cooperate\" and S2 == \"Random\":\n",
    "        for i in range(rounds):\n",
    "            strategy1 = AlwaysCooperate()\n",
    "            strategy2 = Random()\n",
    "            pervS = strategy2\n",
    "            pervS2= strategy1\n",
    "            roundResult.append(CalculatePayoff(strategy1,strategy2))\n",
    "        S1gain,S2gain=GainPerRound(roundResult)\n",
    "        \n",
    "    elif S1 == \"Tit For Tat\" and S2 == \"Random\":\n",
    "        for i in range(rounds):\n",
    "            strategy1 = TitForTat(prevS2,i)\n",
    "            strategy2 = Random()\n",
    "            pervS = strategy2\n",
    "            pervS2= strategy1\n",
    "            roundResult.append(CalculatePayoff(strategy1,strategy2))\n",
    "        S1gain,S2gain=GainPerRound(roundResult)\n",
    "        \n",
    "    elif S1 == \"Suspicious Tit For Tat\" and S2 == \"Naive prober\":\n",
    "        for i in range(rounds):\n",
    "            strategy1 = SuspiciousTitForTat(prevS2,i)\n",
    "            strategy2 = NaiveProber(prevS,i)\n",
    "            pervS = strategy2\n",
    "            pervS2= strategy1\n",
    "            roundResult.append(CalculatePayoff(strategy1,strategy2))\n",
    "        S1gain,S2gain=GainPerRound(roundResult)\n",
    "        \n",
    "    \n",
    "    if(S1gain > S2gain):\n",
    "            return (\"WINNER :\" + S1 + \" with payoffs per round : \", S1gain , S2gain )\n",
    "    elif S1gain < S2gain :\n",
    "            return (\"WINNER :\" + S2 + \" payoff per round : \", S1gain , S2gain ) \n",
    "    else:\n",
    "            return(\"INDIFFERENCE with payoffs : \", S1gain , S2gain)\n",
    "    \n",
    "    return (\"SORRY UNDEFINED STRATEGIES !\")\n",
    "    \n",
    "    "
   ]
  },
  {
   "cell_type": "code",
   "execution_count": 281,
   "metadata": {},
   "outputs": [],
   "source": [
    "AC=\"Always Cooperate\"\n",
    "AD=\"Always Defect\"\n",
    "TfT=\"Tit For Tat\"\n",
    "STfT=\"Suspicious Tit For Tat\"\n",
    "RTfT=\"Reverse Tit for Tat\"\n",
    "Rnd=\"Random\"\n",
    "NP=\"Naive prober\""
   ]
  },
  {
   "cell_type": "code",
   "execution_count": 282,
   "metadata": {},
   "outputs": [
    {
     "data": {
      "text/plain": [
       "('INDIFFERENCE with payoffs : ', 3.0, 3.0)"
      ]
     },
     "execution_count": 282,
     "metadata": {},
     "output_type": "execute_result"
    }
   ],
   "source": [
    "IPDGame(AC,TfT,50)"
   ]
  },
  {
   "cell_type": "code",
   "execution_count": 283,
   "metadata": {},
   "outputs": [
    {
     "data": {
      "text/plain": [
       "('WINNER :Always Defect with payoffs per round : ', 5.0, 0.0)"
      ]
     },
     "execution_count": 283,
     "metadata": {},
     "output_type": "execute_result"
    }
   ],
   "source": [
    "IPDGame(AD,TfT,50)"
   ]
  },
  {
   "cell_type": "code",
   "execution_count": 284,
   "metadata": {},
   "outputs": [
    {
     "data": {
      "text/plain": [
       "('WINNER :Always Defect with payoffs per round : ', 4.92, 0.02)"
      ]
     },
     "execution_count": 284,
     "metadata": {},
     "output_type": "execute_result"
    }
   ],
   "source": [
    "IPDGame(AD,STfT,50)"
   ]
  },
  {
   "cell_type": "code",
   "execution_count": 297,
   "metadata": {},
   "outputs": [
    {
     "name": "stdout",
     "output_type": "stream",
     "text": [
      "[[1, 1]]\n",
      "[[1, 1], [5, 0]]\n",
      "[[1, 1], [5, 0], [5, 0]]\n",
      "[[1, 1], [5, 0], [5, 0], [5, 0]]\n",
      "[[1, 1], [5, 0], [5, 0], [5, 0], [5, 0]]\n",
      "[[1, 1], [5, 0], [5, 0], [5, 0], [5, 0], [5, 0]]\n",
      "[[1, 1], [5, 0], [5, 0], [5, 0], [5, 0], [5, 0], [5, 0]]\n",
      "[[1, 1], [5, 0], [5, 0], [5, 0], [5, 0], [5, 0], [5, 0], [5, 0]]\n",
      "[[1, 1], [5, 0], [5, 0], [5, 0], [5, 0], [5, 0], [5, 0], [5, 0], [5, 0]]\n",
      "[[1, 1], [5, 0], [5, 0], [5, 0], [5, 0], [5, 0], [5, 0], [5, 0], [5, 0], [5, 0]]\n",
      "[[1, 1], [5, 0], [5, 0], [5, 0], [5, 0], [5, 0], [5, 0], [5, 0], [5, 0], [5, 0], [5, 0]]\n",
      "[[1, 1], [5, 0], [5, 0], [5, 0], [5, 0], [5, 0], [5, 0], [5, 0], [5, 0], [5, 0], [5, 0], [5, 0]]\n",
      "[[1, 1], [5, 0], [5, 0], [5, 0], [5, 0], [5, 0], [5, 0], [5, 0], [5, 0], [5, 0], [5, 0], [5, 0], [5, 0]]\n",
      "[[1, 1], [5, 0], [5, 0], [5, 0], [5, 0], [5, 0], [5, 0], [5, 0], [5, 0], [5, 0], [5, 0], [5, 0], [5, 0], [5, 0]]\n",
      "[[1, 1], [5, 0], [5, 0], [5, 0], [5, 0], [5, 0], [5, 0], [5, 0], [5, 0], [5, 0], [5, 0], [5, 0], [5, 0], [5, 0], [5, 0]]\n",
      "[[1, 1], [5, 0], [5, 0], [5, 0], [5, 0], [5, 0], [5, 0], [5, 0], [5, 0], [5, 0], [5, 0], [5, 0], [5, 0], [5, 0], [5, 0], [5, 0]]\n",
      "[[1, 1], [5, 0], [5, 0], [5, 0], [5, 0], [5, 0], [5, 0], [5, 0], [5, 0], [5, 0], [5, 0], [5, 0], [5, 0], [5, 0], [5, 0], [5, 0], [5, 0]]\n",
      "[[1, 1], [5, 0], [5, 0], [5, 0], [5, 0], [5, 0], [5, 0], [5, 0], [5, 0], [5, 0], [5, 0], [5, 0], [5, 0], [5, 0], [5, 0], [5, 0], [5, 0], [5, 0]]\n",
      "[[1, 1], [5, 0], [5, 0], [5, 0], [5, 0], [5, 0], [5, 0], [5, 0], [5, 0], [5, 0], [5, 0], [5, 0], [5, 0], [5, 0], [5, 0], [5, 0], [5, 0], [5, 0], [5, 0]]\n",
      "[[1, 1], [5, 0], [5, 0], [5, 0], [5, 0], [5, 0], [5, 0], [5, 0], [5, 0], [5, 0], [5, 0], [5, 0], [5, 0], [5, 0], [5, 0], [5, 0], [5, 0], [5, 0], [5, 0], [5, 0]]\n",
      "[[1, 1], [5, 0], [5, 0], [5, 0], [5, 0], [5, 0], [5, 0], [5, 0], [5, 0], [5, 0], [5, 0], [5, 0], [5, 0], [5, 0], [5, 0], [5, 0], [5, 0], [5, 0], [5, 0], [5, 0], [5, 0]]\n",
      "[[1, 1], [5, 0], [5, 0], [5, 0], [5, 0], [5, 0], [5, 0], [5, 0], [5, 0], [5, 0], [5, 0], [5, 0], [5, 0], [5, 0], [5, 0], [5, 0], [5, 0], [5, 0], [5, 0], [5, 0], [5, 0], [5, 0]]\n",
      "[[1, 1], [5, 0], [5, 0], [5, 0], [5, 0], [5, 0], [5, 0], [5, 0], [5, 0], [5, 0], [5, 0], [5, 0], [5, 0], [5, 0], [5, 0], [5, 0], [5, 0], [5, 0], [5, 0], [5, 0], [5, 0], [5, 0], [5, 0]]\n",
      "[[1, 1], [5, 0], [5, 0], [5, 0], [5, 0], [5, 0], [5, 0], [5, 0], [5, 0], [5, 0], [5, 0], [5, 0], [5, 0], [5, 0], [5, 0], [5, 0], [5, 0], [5, 0], [5, 0], [5, 0], [5, 0], [5, 0], [5, 0], [5, 0]]\n",
      "[[1, 1], [5, 0], [5, 0], [5, 0], [5, 0], [5, 0], [5, 0], [5, 0], [5, 0], [5, 0], [5, 0], [5, 0], [5, 0], [5, 0], [5, 0], [5, 0], [5, 0], [5, 0], [5, 0], [5, 0], [5, 0], [5, 0], [5, 0], [5, 0], [5, 0]]\n",
      "[[1, 1], [5, 0], [5, 0], [5, 0], [5, 0], [5, 0], [5, 0], [5, 0], [5, 0], [5, 0], [5, 0], [5, 0], [5, 0], [5, 0], [5, 0], [5, 0], [5, 0], [5, 0], [5, 0], [5, 0], [5, 0], [5, 0], [5, 0], [5, 0], [5, 0], [5, 0]]\n",
      "[[1, 1], [5, 0], [5, 0], [5, 0], [5, 0], [5, 0], [5, 0], [5, 0], [5, 0], [5, 0], [5, 0], [5, 0], [5, 0], [5, 0], [5, 0], [5, 0], [5, 0], [5, 0], [5, 0], [5, 0], [5, 0], [5, 0], [5, 0], [5, 0], [5, 0], [5, 0], [5, 0]]\n",
      "[[1, 1], [5, 0], [5, 0], [5, 0], [5, 0], [5, 0], [5, 0], [5, 0], [5, 0], [5, 0], [5, 0], [5, 0], [5, 0], [5, 0], [5, 0], [5, 0], [5, 0], [5, 0], [5, 0], [5, 0], [5, 0], [5, 0], [5, 0], [5, 0], [5, 0], [5, 0], [5, 0], [5, 0]]\n",
      "[[1, 1], [5, 0], [5, 0], [5, 0], [5, 0], [5, 0], [5, 0], [5, 0], [5, 0], [5, 0], [5, 0], [5, 0], [5, 0], [5, 0], [5, 0], [5, 0], [5, 0], [5, 0], [5, 0], [5, 0], [5, 0], [5, 0], [5, 0], [5, 0], [5, 0], [5, 0], [5, 0], [5, 0], [5, 0]]\n",
      "[[1, 1], [5, 0], [5, 0], [5, 0], [5, 0], [5, 0], [5, 0], [5, 0], [5, 0], [5, 0], [5, 0], [5, 0], [5, 0], [5, 0], [5, 0], [5, 0], [5, 0], [5, 0], [5, 0], [5, 0], [5, 0], [5, 0], [5, 0], [5, 0], [5, 0], [5, 0], [5, 0], [5, 0], [5, 0], [5, 0]]\n",
      "[[1, 1], [5, 0], [5, 0], [5, 0], [5, 0], [5, 0], [5, 0], [5, 0], [5, 0], [5, 0], [5, 0], [5, 0], [5, 0], [5, 0], [5, 0], [5, 0], [5, 0], [5, 0], [5, 0], [5, 0], [5, 0], [5, 0], [5, 0], [5, 0], [5, 0], [5, 0], [5, 0], [5, 0], [5, 0], [5, 0], [5, 0]]\n",
      "[[1, 1], [5, 0], [5, 0], [5, 0], [5, 0], [5, 0], [5, 0], [5, 0], [5, 0], [5, 0], [5, 0], [5, 0], [5, 0], [5, 0], [5, 0], [5, 0], [5, 0], [5, 0], [5, 0], [5, 0], [5, 0], [5, 0], [5, 0], [5, 0], [5, 0], [5, 0], [5, 0], [5, 0], [5, 0], [5, 0], [5, 0], [5, 0]]\n",
      "[[1, 1], [5, 0], [5, 0], [5, 0], [5, 0], [5, 0], [5, 0], [5, 0], [5, 0], [5, 0], [5, 0], [5, 0], [5, 0], [5, 0], [5, 0], [5, 0], [5, 0], [5, 0], [5, 0], [5, 0], [5, 0], [5, 0], [5, 0], [5, 0], [5, 0], [5, 0], [5, 0], [5, 0], [5, 0], [5, 0], [5, 0], [5, 0], [5, 0]]\n",
      "[[1, 1], [5, 0], [5, 0], [5, 0], [5, 0], [5, 0], [5, 0], [5, 0], [5, 0], [5, 0], [5, 0], [5, 0], [5, 0], [5, 0], [5, 0], [5, 0], [5, 0], [5, 0], [5, 0], [5, 0], [5, 0], [5, 0], [5, 0], [5, 0], [5, 0], [5, 0], [5, 0], [5, 0], [5, 0], [5, 0], [5, 0], [5, 0], [5, 0], [5, 0]]\n",
      "[[1, 1], [5, 0], [5, 0], [5, 0], [5, 0], [5, 0], [5, 0], [5, 0], [5, 0], [5, 0], [5, 0], [5, 0], [5, 0], [5, 0], [5, 0], [5, 0], [5, 0], [5, 0], [5, 0], [5, 0], [5, 0], [5, 0], [5, 0], [5, 0], [5, 0], [5, 0], [5, 0], [5, 0], [5, 0], [5, 0], [5, 0], [5, 0], [5, 0], [5, 0], [5, 0]]\n",
      "[[1, 1], [5, 0], [5, 0], [5, 0], [5, 0], [5, 0], [5, 0], [5, 0], [5, 0], [5, 0], [5, 0], [5, 0], [5, 0], [5, 0], [5, 0], [5, 0], [5, 0], [5, 0], [5, 0], [5, 0], [5, 0], [5, 0], [5, 0], [5, 0], [5, 0], [5, 0], [5, 0], [5, 0], [5, 0], [5, 0], [5, 0], [5, 0], [5, 0], [5, 0], [5, 0], [5, 0]]\n",
      "[[1, 1], [5, 0], [5, 0], [5, 0], [5, 0], [5, 0], [5, 0], [5, 0], [5, 0], [5, 0], [5, 0], [5, 0], [5, 0], [5, 0], [5, 0], [5, 0], [5, 0], [5, 0], [5, 0], [5, 0], [5, 0], [5, 0], [5, 0], [5, 0], [5, 0], [5, 0], [5, 0], [5, 0], [5, 0], [5, 0], [5, 0], [5, 0], [5, 0], [5, 0], [5, 0], [5, 0], [5, 0]]\n",
      "[[1, 1], [5, 0], [5, 0], [5, 0], [5, 0], [5, 0], [5, 0], [5, 0], [5, 0], [5, 0], [5, 0], [5, 0], [5, 0], [5, 0], [5, 0], [5, 0], [5, 0], [5, 0], [5, 0], [5, 0], [5, 0], [5, 0], [5, 0], [5, 0], [5, 0], [5, 0], [5, 0], [5, 0], [5, 0], [5, 0], [5, 0], [5, 0], [5, 0], [5, 0], [5, 0], [5, 0], [5, 0], [5, 0]]\n",
      "[[1, 1], [5, 0], [5, 0], [5, 0], [5, 0], [5, 0], [5, 0], [5, 0], [5, 0], [5, 0], [5, 0], [5, 0], [5, 0], [5, 0], [5, 0], [5, 0], [5, 0], [5, 0], [5, 0], [5, 0], [5, 0], [5, 0], [5, 0], [5, 0], [5, 0], [5, 0], [5, 0], [5, 0], [5, 0], [5, 0], [5, 0], [5, 0], [5, 0], [5, 0], [5, 0], [5, 0], [5, 0], [5, 0], [5, 0]]\n",
      "[[1, 1], [5, 0], [5, 0], [5, 0], [5, 0], [5, 0], [5, 0], [5, 0], [5, 0], [5, 0], [5, 0], [5, 0], [5, 0], [5, 0], [5, 0], [5, 0], [5, 0], [5, 0], [5, 0], [5, 0], [5, 0], [5, 0], [5, 0], [5, 0], [5, 0], [5, 0], [5, 0], [5, 0], [5, 0], [5, 0], [5, 0], [5, 0], [5, 0], [5, 0], [5, 0], [5, 0], [5, 0], [5, 0], [5, 0], [5, 0]]\n",
      "[[1, 1], [5, 0], [5, 0], [5, 0], [5, 0], [5, 0], [5, 0], [5, 0], [5, 0], [5, 0], [5, 0], [5, 0], [5, 0], [5, 0], [5, 0], [5, 0], [5, 0], [5, 0], [5, 0], [5, 0], [5, 0], [5, 0], [5, 0], [5, 0], [5, 0], [5, 0], [5, 0], [5, 0], [5, 0], [5, 0], [5, 0], [5, 0], [5, 0], [5, 0], [5, 0], [5, 0], [5, 0], [5, 0], [5, 0], [5, 0], [5, 0]]\n",
      "[[1, 1], [5, 0], [5, 0], [5, 0], [5, 0], [5, 0], [5, 0], [5, 0], [5, 0], [5, 0], [5, 0], [5, 0], [5, 0], [5, 0], [5, 0], [5, 0], [5, 0], [5, 0], [5, 0], [5, 0], [5, 0], [5, 0], [5, 0], [5, 0], [5, 0], [5, 0], [5, 0], [5, 0], [5, 0], [5, 0], [5, 0], [5, 0], [5, 0], [5, 0], [5, 0], [5, 0], [5, 0], [5, 0], [5, 0], [5, 0], [5, 0], [5, 0]]\n",
      "[[1, 1], [5, 0], [5, 0], [5, 0], [5, 0], [5, 0], [5, 0], [5, 0], [5, 0], [5, 0], [5, 0], [5, 0], [5, 0], [5, 0], [5, 0], [5, 0], [5, 0], [5, 0], [5, 0], [5, 0], [5, 0], [5, 0], [5, 0], [5, 0], [5, 0], [5, 0], [5, 0], [5, 0], [5, 0], [5, 0], [5, 0], [5, 0], [5, 0], [5, 0], [5, 0], [5, 0], [5, 0], [5, 0], [5, 0], [5, 0], [5, 0], [5, 0], [5, 0]]\n",
      "[[1, 1], [5, 0], [5, 0], [5, 0], [5, 0], [5, 0], [5, 0], [5, 0], [5, 0], [5, 0], [5, 0], [5, 0], [5, 0], [5, 0], [5, 0], [5, 0], [5, 0], [5, 0], [5, 0], [5, 0], [5, 0], [5, 0], [5, 0], [5, 0], [5, 0], [5, 0], [5, 0], [5, 0], [5, 0], [5, 0], [5, 0], [5, 0], [5, 0], [5, 0], [5, 0], [5, 0], [5, 0], [5, 0], [5, 0], [5, 0], [5, 0], [5, 0], [5, 0], [5, 0]]\n",
      "[[1, 1], [5, 0], [5, 0], [5, 0], [5, 0], [5, 0], [5, 0], [5, 0], [5, 0], [5, 0], [5, 0], [5, 0], [5, 0], [5, 0], [5, 0], [5, 0], [5, 0], [5, 0], [5, 0], [5, 0], [5, 0], [5, 0], [5, 0], [5, 0], [5, 0], [5, 0], [5, 0], [5, 0], [5, 0], [5, 0], [5, 0], [5, 0], [5, 0], [5, 0], [5, 0], [5, 0], [5, 0], [5, 0], [5, 0], [5, 0], [5, 0], [5, 0], [5, 0], [5, 0], [5, 0]]\n",
      "[[1, 1], [5, 0], [5, 0], [5, 0], [5, 0], [5, 0], [5, 0], [5, 0], [5, 0], [5, 0], [5, 0], [5, 0], [5, 0], [5, 0], [5, 0], [5, 0], [5, 0], [5, 0], [5, 0], [5, 0], [5, 0], [5, 0], [5, 0], [5, 0], [5, 0], [5, 0], [5, 0], [5, 0], [5, 0], [5, 0], [5, 0], [5, 0], [5, 0], [5, 0], [5, 0], [5, 0], [5, 0], [5, 0], [5, 0], [5, 0], [5, 0], [5, 0], [5, 0], [5, 0], [5, 0], [5, 0]]\n",
      "[[1, 1], [5, 0], [5, 0], [5, 0], [5, 0], [5, 0], [5, 0], [5, 0], [5, 0], [5, 0], [5, 0], [5, 0], [5, 0], [5, 0], [5, 0], [5, 0], [5, 0], [5, 0], [5, 0], [5, 0], [5, 0], [5, 0], [5, 0], [5, 0], [5, 0], [5, 0], [5, 0], [5, 0], [5, 0], [5, 0], [5, 0], [5, 0], [5, 0], [5, 0], [5, 0], [5, 0], [5, 0], [5, 0], [5, 0], [5, 0], [5, 0], [5, 0], [5, 0], [5, 0], [5, 0], [5, 0], [5, 0]]\n",
      "[[1, 1], [5, 0], [5, 0], [5, 0], [5, 0], [5, 0], [5, 0], [5, 0], [5, 0], [5, 0], [5, 0], [5, 0], [5, 0], [5, 0], [5, 0], [5, 0], [5, 0], [5, 0], [5, 0], [5, 0], [5, 0], [5, 0], [5, 0], [5, 0], [5, 0], [5, 0], [5, 0], [5, 0], [5, 0], [5, 0], [5, 0], [5, 0], [5, 0], [5, 0], [5, 0], [5, 0], [5, 0], [5, 0], [5, 0], [5, 0], [5, 0], [5, 0], [5, 0], [5, 0], [5, 0], [5, 0], [5, 0], [5, 0]]\n",
      "[[1, 1], [5, 0], [5, 0], [5, 0], [5, 0], [5, 0], [5, 0], [5, 0], [5, 0], [5, 0], [5, 0], [5, 0], [5, 0], [5, 0], [5, 0], [5, 0], [5, 0], [5, 0], [5, 0], [5, 0], [5, 0], [5, 0], [5, 0], [5, 0], [5, 0], [5, 0], [5, 0], [5, 0], [5, 0], [5, 0], [5, 0], [5, 0], [5, 0], [5, 0], [5, 0], [5, 0], [5, 0], [5, 0], [5, 0], [5, 0], [5, 0], [5, 0], [5, 0], [5, 0], [5, 0], [5, 0], [5, 0], [5, 0], [5, 0]]\n",
      "[[1, 1], [5, 0], [5, 0], [5, 0], [5, 0], [5, 0], [5, 0], [5, 0], [5, 0], [5, 0], [5, 0], [5, 0], [5, 0], [5, 0], [5, 0], [5, 0], [5, 0], [5, 0], [5, 0], [5, 0], [5, 0], [5, 0], [5, 0], [5, 0], [5, 0], [5, 0], [5, 0], [5, 0], [5, 0], [5, 0], [5, 0], [5, 0], [5, 0], [5, 0], [5, 0], [5, 0], [5, 0], [5, 0], [5, 0], [5, 0], [5, 0], [5, 0], [5, 0], [5, 0], [5, 0], [5, 0], [5, 0], [5, 0], [5, 0], [5, 0]]\n"
     ]
    },
    {
     "data": {
      "text/plain": [
       "('WINNER :Reverse Tit for Tat with payoffs per round : ', 4.92, 0.02)"
      ]
     },
     "execution_count": 297,
     "metadata": {},
     "output_type": "execute_result"
    }
   ],
   "source": [
    "IPDGame(RTfT,STfT,50)"
   ]
  },
  {
   "cell_type": "code",
   "execution_count": 286,
   "metadata": {
    "scrolled": false
   },
   "outputs": [
    {
     "data": {
      "text/plain": [
       "[('WINNER :Random payoff per round : ', 1.38, 4.08),\n",
       " ('WINNER :Random payoff per round : ', 1.68, 3.88),\n",
       " ('WINNER :Random payoff per round : ', 1.62, 3.92),\n",
       " ('WINNER :Random payoff per round : ', 1.68, 3.88),\n",
       " ('WINNER :Random payoff per round : ', 1.26, 4.16),\n",
       " ('WINNER :Random payoff per round : ', 1.38, 4.08),\n",
       " ('WINNER :Random payoff per round : ', 1.38, 4.08),\n",
       " ('WINNER :Random payoff per round : ', 1.32, 4.12),\n",
       " ('WINNER :Random payoff per round : ', 1.26, 4.16),\n",
       " ('WINNER :Random payoff per round : ', 1.5, 4.0)]"
      ]
     },
     "execution_count": 286,
     "metadata": {},
     "output_type": "execute_result"
    }
   ],
   "source": [
    "rounds=[]\n",
    "for i in range(10):\n",
    "    rounds.append(IPDGame(AC,Rnd,50))\n",
    "rounds\n"
   ]
  },
  {
   "cell_type": "code",
   "execution_count": 287,
   "metadata": {},
   "outputs": [
    {
     "data": {
      "text/plain": [
       "[('WINNER :Random payoff per round : ', 1.68, 3.88),\n",
       " ('WINNER :Tit For Tat with payoffs per round : ', 2.98, 0.58),\n",
       " ('WINNER :Random payoff per round : ', 1.68, 3.88),\n",
       " ('WINNER :Tit For Tat with payoffs per round : ', 2.96, 0.56),\n",
       " ('WINNER :Random payoff per round : ', 1.98, 3.68),\n",
       " ('WINNER :Tit For Tat with payoffs per round : ', 2.64, 0.64),\n",
       " ('WINNER :Tit For Tat with payoffs per round : ', 3.3, 0.5),\n",
       " ('WINNER :Random payoff per round : ', 1.5, 4.0),\n",
       " ('WINNER :Tit For Tat with payoffs per round : ', 2.1, 0.8),\n",
       " ('WINNER :Random payoff per round : ', 1.02, 4.32)]"
      ]
     },
     "execution_count": 287,
     "metadata": {},
     "output_type": "execute_result"
    }
   ],
   "source": [
    "rounds=[]\n",
    "for i in range(10):\n",
    "    rounds.append(IPDGame(TfT,Rnd,50))\n",
    "rounds"
   ]
  },
  {
   "cell_type": "code",
   "execution_count": 288,
   "metadata": {},
   "outputs": [
    {
     "data": {
      "text/plain": [
       "[('WINNER :Suspicious Tit For Tat with payoffs per round : ', 1.08, 0.98),\n",
       " ('WINNER :Naive prober payoff per round : ', 2.62, 3.22),\n",
       " ('WINNER :Suspicious Tit For Tat with payoffs per round : ', 1.08, 0.98),\n",
       " ('WINNER :Suspicious Tit For Tat with payoffs per round : ', 4.6, 0.1),\n",
       " ('WINNER :Suspicious Tit For Tat with payoffs per round : ', 4.68, 0.08),\n",
       " ('WINNER :Suspicious Tit For Tat with payoffs per round : ', 1.08, 0.98),\n",
       " ('WINNER :Naive prober payoff per round : ', 2.62, 3.22),\n",
       " ('WINNER :Naive prober payoff per round : ', 0.1, 4.9),\n",
       " ('WINNER :Naive prober payoff per round : ', 0.1, 4.9),\n",
       " ('WINNER :Naive prober payoff per round : ', 0.1, 4.9)]"
      ]
     },
     "execution_count": 288,
     "metadata": {},
     "output_type": "execute_result"
    }
   ],
   "source": [
    "rounds=[]\n",
    "for i in range(10):\n",
    "    rounds.append(IPDGame(STfT,NP,50))\n",
    "rounds"
   ]
  },
  {
   "cell_type": "code",
   "execution_count": 289,
   "metadata": {},
   "outputs": [],
   "source": [
    "def initial_hist(typ):\n",
    "    hist=[]\n",
    "    if typ=='AC' or typ=='AD':\n",
    "        hist.append(list(np.random.choice([0,1],2)))\n",
    "        return hist\n",
    "    elif typ=='TFT' or typ=='RTFT' :\n",
    "        prob = np.random.rand()\n",
    "        if prob <0.5:\n",
    "            hist.append([0,0])\n",
    "        else:\n",
    "            hist.append([1,0])\n",
    "        return hist\n",
    "    elif  typ=='STFT':\n",
    "        prob = np.random.rand()\n",
    "        if prob <0.5:\n",
    "            hist.append([1,1])\n",
    "        else:\n",
    "            hist.append([0,1])\n",
    "        return hist   "
   ]
  },
  {
   "cell_type": "code",
   "execution_count": 290,
   "metadata": {},
   "outputs": [],
   "source": [
    "\n",
    "def lookupIPDGame(S1,S2,rounds):\n",
    "    \n",
    "    AC = [0,0,0,0]\n",
    "    AD =[1,1,1,1]\n",
    "    TfT =[0,1,0,1]\n",
    "    STfT=[0,1,0,1]\n",
    "    RTFT=[1,0,1,0]\n",
    "    payoffs=[]\n",
    "   \n",
    "   \n",
    "    if S1 == \"Always Cooperate\" and S2 == \"Tit For Tat\":\n",
    "        hist1=initial_hist('AC')\n",
    "        hist2=initial_hist('TFT')\n",
    "        \n",
    "        for i in range(rounds):\n",
    "            pos1=(hist1[0][0]*(2**1))+(hist1[0][1]*(2**0))\n",
    "            pos2=(hist2[0][0]*(2**1))+(hist2[0][1]*(2**0))\n",
    "            payoffs.append(CalculatePayoff(AC[pos1],TfT[pos2]))\n",
    "            newhist1=[AC[pos1],TfT[pos2]]\n",
    "            newhist2=[TfT[pos2],AC[pos1]]\n",
    "            hist1[0],hist2[0]=newhist1,newhist2\n",
    "            \n",
    "    elif S1 == \"Always Defect\" and S2 == \"Tit For Tat\":\n",
    "        hist1=initial_hist('AD')\n",
    "        hist2=initial_hist('TFT')\n",
    "        \n",
    "        for i in range(rounds):\n",
    "            pos1=(hist1[0][0]*(2**1))+(hist1[0][1]*(2**0))\n",
    "            pos2=(hist2[0][0]*(2**1))+(hist2[0][1]*(2**0))\n",
    "            payoffs.append(CalculatePayoff(AD[pos1],TfT[pos2]))\n",
    "            newhist1=[AD[pos1],TfT[pos2]]\n",
    "            newhist2=[TfT[pos2],AD[pos1]]\n",
    "            hist1[0],hist2[0]=newhist1,newhist2\n",
    "    elif S1 == \"Always Defect\" and S2 == \"Suspicious Tit For Tat\":\n",
    "        hist1=initial_hist('AD')\n",
    "        hist2=initial_hist('STFT')\n",
    "        \n",
    "        for i in range(rounds):\n",
    "            pos1=(hist1[0][0]*(2**1))+(hist1[0][1]*(2**0))\n",
    "            pos2=(hist2[0][0]*(2**1))+(hist2[0][1]*(2**0))\n",
    "            payoffs.append(CalculatePayoff(AD[pos1],STfT[pos2]))\n",
    "            newhist1=[AD[pos1],STfT[pos2]]\n",
    "            newhist2=[STfT[pos2],AD[pos1]]\n",
    "            hist1[0],hist2[0]=newhist1,newhist2\n",
    "    \n",
    "    elif S1 == \"Reverse Tit For Tat\" and S2 == \"Suspicious Tit For Tat\":\n",
    "        hist1=initial_hist('RTFT')\n",
    "        hist2=initial_hist('STFT')\n",
    "        \n",
    "        for i in range(rounds):\n",
    "            pos1=(hist1[0][0]*(2**1))+(hist1[0][1]*(2**0))\n",
    "            pos2=(hist2[0][0]*(2**1))+(hist2[0][1]*(2**0))\n",
    "            payoffs.append(CalculatePayoff(RTFT[pos1],STfT[pos2]))\n",
    "            newhist1=[RTFT[pos1],STfT[pos2]]\n",
    "            newhist2=[STfT[pos2],RTFT[pos1]]\n",
    "            hist1[0],hist2[0]=newhist1,newhist2\n",
    "        \n",
    "    else:\n",
    "        return (\"Undefined Strategies\")\n",
    "    S1gain,S2gain=GainPerRound(payoffs)\n",
    "    if(S1gain > S2gain):\n",
    "        return (\"WINNER :\" + S1 + \" with payoffs per round : \", S1gain , S2gain )\n",
    "    elif S1gain < S2gain :\n",
    "        return (\"WINNER :\" + S2 + \" with payoff per round : \", S1gain , S2gain ) \n",
    "    else:\n",
    "        return(\"INDIFFERENCE with payoffs : \", S1gain , S2gain)\n",
    "    "
   ]
  },
  {
   "cell_type": "code",
   "execution_count": 291,
   "metadata": {
    "scrolled": true
   },
   "outputs": [
    {
     "data": {
      "text/plain": [
       "('INDIFFERENCE with payoffs : ', 3.0, 3.0)"
      ]
     },
     "execution_count": 291,
     "metadata": {},
     "output_type": "execute_result"
    }
   ],
   "source": [
    "lookupIPDGame(\"Always Cooperate\" , \"Tit For Tat\",50)"
   ]
  },
  {
   "cell_type": "code",
   "execution_count": 292,
   "metadata": {},
   "outputs": [
    {
     "data": {
      "text/plain": [
       "('WINNER :Always Defect with payoffs per round : ', 1.08, 0.98)"
      ]
     },
     "execution_count": 292,
     "metadata": {},
     "output_type": "execute_result"
    }
   ],
   "source": [
    "lookupIPDGame(\"Always Defect\" , \"Tit For Tat\",50)"
   ]
  },
  {
   "cell_type": "code",
   "execution_count": 293,
   "metadata": {},
   "outputs": [
    {
     "data": {
      "text/plain": [
       "('INDIFFERENCE with payoffs : ', 1.0, 1.0)"
      ]
     },
     "execution_count": 293,
     "metadata": {},
     "output_type": "execute_result"
    }
   ],
   "source": [
    "lookupIPDGame(\"Always Defect\" , \"Suspicious Tit For Tat\",50)"
   ]
  },
  {
   "cell_type": "code",
   "execution_count": 294,
   "metadata": {},
   "outputs": [
    {
     "data": {
      "text/plain": [
       "('WINNER :Suspicious Tit For Tat with payoff per round : ', 2.18, 2.28)"
      ]
     },
     "execution_count": 294,
     "metadata": {},
     "output_type": "execute_result"
    }
   ],
   "source": [
    "lookupIPDGame(\"Reverse Tit For Tat\" , \"Suspicious Tit For Tat\",50)"
   ]
  },
  {
   "cell_type": "code",
   "execution_count": null,
   "metadata": {},
   "outputs": [],
   "source": []
  },
  {
   "cell_type": "code",
   "execution_count": null,
   "metadata": {},
   "outputs": [],
   "source": []
  }
 ],
 "metadata": {
  "kernelspec": {
   "display_name": "Python 3",
   "language": "python",
   "name": "python3"
  },
  "language_info": {
   "codemirror_mode": {
    "name": "ipython",
    "version": 3
   },
   "file_extension": ".py",
   "mimetype": "text/x-python",
   "name": "python",
   "nbconvert_exporter": "python",
   "pygments_lexer": "ipython3",
   "version": "3.6.4"
  }
 },
 "nbformat": 4,
 "nbformat_minor": 2
}
